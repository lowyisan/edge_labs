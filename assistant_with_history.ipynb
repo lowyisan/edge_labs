{
 "cells": [
  {
   "cell_type": "code",
   "execution_count": null,
   "metadata": {},
   "outputs": [],
   "source": [
    "import os\n",
    "\n",
    "os.environ[\"OPENAI_API_KEY\"] = \"API KEY HERE\""
   ]
  },
  {
   "cell_type": "code",
   "execution_count": null,
   "metadata": {},
   "outputs": [],
   "source": [
    "!pip install langchain langchain-openai langchain_core langchain_community"
   ]
  },
  {
   "cell_type": "code",
   "execution_count": 20,
   "metadata": {},
   "outputs": [],
   "source": [
    "from langchain_openai import ChatOpenAI\n",
    "from langchain_core.prompts import ChatPromptTemplate, MessagesPlaceholder\n",
    "from langchain_community.chat_message_histories import ChatMessageHistory\n",
    "from langchain_core.runnables.history import RunnableWithMessageHistory\n",
    "\n",
    "# Dictionary to hold chat histories by session_id\n",
    "session_chains = {}\n",
    "\n",
    "def setup_chat(model: str = \"gpt-3.5-turbo-1106\", session_id: str = \"default\"):\n",
    "    chat = ChatOpenAI(model=model)\n",
    "\n",
    "    prompt = ChatPromptTemplate.from_messages(\n",
    "        [\n",
    "            (\"system\", \"You are a helpful assistant. Answer all questions to the best of your ability.\"),\n",
    "            MessagesPlaceholder(variable_name=\"chat_history\"),\n",
    "            (\"human\", \"{input}\"),\n",
    "        ]\n",
    "    )\n",
    "\n",
    "    chain = prompt | chat\n",
    "\n",
    "    # Set up unique chat history for this session\n",
    "    history = ChatMessageHistory()\n",
    "\n",
    "    chain_with_history = RunnableWithMessageHistory(\n",
    "        chain,\n",
    "        lambda _: history,\n",
    "        input_messages_key=\"input\",\n",
    "        history_messages_key=\"chat_history\",\n",
    "    )\n",
    "\n",
    "    # Store in dictionary\n",
    "    session_chains[session_id] = {\n",
    "        \"chain\": chain_with_history,\n",
    "        \"history\": history,\n",
    "    }\n",
    "\n",
    "def chat_with_session(text: str, session_id: str = \"default\"):\n",
    "    if session_id not in session_chains:\n",
    "        raise ValueError(f\"No chat session found with ID '{session_id}'. Please run setup_chat() first.\")\n",
    "\n",
    "    chain = session_chains[session_id][\"chain\"]\n",
    "\n",
    "    response = chain.invoke(\n",
    "        {\"input\": text},\n",
    "        {\"configurable\": {\"session_id\": session_id}},\n",
    "    )\n",
    "\n",
    "    return response.content\n"
   ]
  },
  {
   "cell_type": "code",
   "execution_count": 23,
   "metadata": {},
   "outputs": [
    {
     "name": "stdout",
     "output_type": "stream",
     "text": [
      "Hello! How can I assist you today?\n"
     ]
    }
   ],
   "source": [
    "# Possible models : \"gpt-4o\" \"o3-mini-2025-01-31\"\n",
    "\n",
    "# Setup once\n",
    "setup_chat(model=\"gpt-4o\", session_id=\"user123\")\n",
    "\n",
    "# Call multiple times while keeping history\n",
    "print(chat_with_session(\"Hello!\", session_id=\"user123\"))\n"
   ]
  },
  {
   "cell_type": "code",
   "execution_count": 24,
   "metadata": {},
   "outputs": [
    {
     "name": "stdout",
     "output_type": "stream",
     "text": [
      "You just said \"Hello!\" and I responded to you. If there's anything specific you'd like to discuss or any questions you have, feel free to let me know!\n"
     ]
    }
   ],
   "source": [
    "print(chat_with_session(\"What did I just say?\", session_id=\"user123\"))"
   ]
  },
  {
   "cell_type": "code",
   "execution_count": null,
   "metadata": {},
   "outputs": [],
   "source": []
  }
 ],
 "metadata": {
  "kernelspec": {
   "display_name": "Python 3",
   "language": "python",
   "name": "python3"
  },
  "language_info": {
   "codemirror_mode": {
    "name": "ipython",
    "version": 3
   },
   "file_extension": ".py",
   "mimetype": "text/x-python",
   "name": "python",
   "nbconvert_exporter": "python",
   "pygments_lexer": "ipython3",
   "version": "3.12.1"
  }
 },
 "nbformat": 4,
 "nbformat_minor": 2
}
